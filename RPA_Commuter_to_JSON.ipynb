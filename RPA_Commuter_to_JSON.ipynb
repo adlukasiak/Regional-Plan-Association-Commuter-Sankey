{
 "metadata": {
  "name": ""
 },
 "nbformat": 3,
 "nbformat_minor": 0,
 "worksheets": [
  {
   "cells": [
    {
     "cell_type": "code",
     "collapsed": false,
     "input": [
      "import json\n",
      "import pandas as pd\n",
      "import numpy as np"
     ],
     "language": "python",
     "metadata": {},
     "outputs": []
    },
    {
     "cell_type": "code",
     "collapsed": false,
     "input": [
      "#mode = \"RtoW_all\"\n",
      "#mode = \"RtoW_top_100\"\n",
      "#mode = \"WtoR_all\"\n",
      "#mode = \"WtoR_top_100\"\n",
      "mode = \"Test\""
     ],
     "language": "python",
     "metadata": {},
     "outputs": []
    },
    {
     "cell_type": "code",
     "collapsed": false,
     "input": [
      "config = {\"RtoW_all\":{\n",
      "              \"infile\":\"data/residencecommutecounty-rpacounty-042014.csv\",\n",
      "              \"outfile\":\"data/rpa_commute_res_emp_all.json\",\n",
      "              \"top_100\":False},\n",
      "          \"RtoW_top_100\":{\n",
      "              \"infile\":\"data/residencecommutecounty-rpacounty-042014.csv\",\n",
      "              \"outfile\":\"data/rpa_commute_res_emp_top_100.json\",\n",
      "              \"top_100\":True},\n",
      "          \"WtoR_all\":{\n",
      "              \"infile\":\"data/workplacecommutecounty-rpacounty-042014.csv\",\n",
      "              \"outfile\":\"data/rpa_commute_emp_res_all.json\",\n",
      "              \"top_100\":False},\n",
      "          \"WtoR_top_100\":{\n",
      "              \"infile\":\"data/workplacecommutecounty-rpacounty-042014.csv\",\n",
      "              \"outfile\":\"data/rpa_commute_emp_res_top_100.json\",\n",
      "              \"top_100\":True},\n",
      "          \"Test\":{\n",
      "              \"infile\":\"data/residencecommutecounty-rpacounty-042014.csv\",\n",
      "              \"outfile\":\"data/test.json\",\n",
      "              \"top_100\":True}\n",
      "          }"
     ],
     "language": "python",
     "metadata": {},
     "outputs": []
    },
    {
     "cell_type": "code",
     "collapsed": false,
     "input": [
      "#config[\"RtoW_top_100\"][\"top_100\"]"
     ],
     "language": "python",
     "metadata": {},
     "outputs": []
    },
    {
     "cell_type": "code",
     "collapsed": false,
     "input": [
      "in_file = config[mode][\"infile\"]\n",
      "df = pd.io.parsers.read_csv(in_file, dtype= {\"Numbers\": np.int32})"
     ],
     "language": "python",
     "metadata": {},
     "outputs": []
    },
    {
     "cell_type": "code",
     "collapsed": false,
     "input": [
      "cols_to_keep = [\"Number\",\"MOE\",\"Res_Sta\",\"Res_Cnty\",\"Emp_Sta\",\"Emp_Cnty\"]\n",
      "dummies = []\n",
      "\n",
      "df = df[[col for col in cols_to_keep if col not in dummies]]\n",
      "df = df.fillna(\" \")"
     ],
     "language": "python",
     "metadata": {},
     "outputs": []
    },
    {
     "cell_type": "code",
     "collapsed": false,
     "input": [
      "# For testing only, if want to do top_10\n",
      "df = df.sort([\"Number\"],ascending=False).reset_index()\n",
      "if config[mode][\"top_100\"] == True:\n",
      "    df = df[:100]"
     ],
     "language": "python",
     "metadata": {},
     "outputs": []
    },
    {
     "cell_type": "code",
     "collapsed": false,
     "input": [
      "#df['Res_Sta' ] = df['Res_Sta' ].map(lambda x : 'Res ' + x)\n",
      "#df['Res_Cnty'] = df['Res_Cnty'].map(lambda x : 'Res ' + x)\n",
      "#df['Emp_Sta' ] = df['Emp_Sta' ].map(lambda x : 'Emp ' + x)\n",
      "#df['Emp_Cnty'] = df['Emp_Cnty'].map(lambda x : 'Emp ' + x)"
     ],
     "language": "python",
     "metadata": {},
     "outputs": []
    },
    {
     "cell_type": "code",
     "collapsed": false,
     "input": [
      "df['Res_Sta' ] = df['Res_Sta' ].map(lambda x : x + ' (Res)')\n",
      "df['Res_Cnty'] = df['Res_Cnty'].map(lambda x : x + ' (Res)')\n",
      "df['Emp_Sta' ] = df['Emp_Sta' ].map(lambda x : x + ' (Emp)')\n",
      "df['Emp_Cnty'] = df['Emp_Cnty'].map(lambda x : x + ' (Emp)')"
     ],
     "language": "python",
     "metadata": {},
     "outputs": []
    },
    {
     "cell_type": "code",
     "collapsed": false,
     "input": [
      "res_nodes = []\n",
      "index = []"
     ],
     "language": "python",
     "metadata": {},
     "outputs": []
    },
    {
     "cell_type": "code",
     "collapsed": false,
     "input": [
      "for ccff in ['Res_Sta','Res_Cnty','Emp_Cnty','Emp_Sta']:\n",
      "    aa = list(set(df[ccff]))\n",
      "    aa.sort()\n",
      "    for elem in aa:\n",
      "        index.append(elem)\n",
      "        res_nodes.append({\"name\":elem})"
     ],
     "language": "python",
     "metadata": {},
     "outputs": []
    },
    {
     "cell_type": "code",
     "collapsed": false,
     "input": [
      "res_links = []"
     ],
     "language": "python",
     "metadata": {},
     "outputs": []
    },
    {
     "cell_type": "code",
     "collapsed": false,
     "input": [
      "index_dic = dict(zip(index,range(0,len(index))))"
     ],
     "language": "python",
     "metadata": {},
     "outputs": []
    },
    {
     "cell_type": "code",
     "collapsed": false,
     "input": [
      "R = df.groupby(['Res_Sta','Res_Cnty']).sum().reset_index()\n",
      "T = df.groupby(['Emp_Sta','Emp_Cnty']).sum().reset_index()"
     ],
     "language": "python",
     "metadata": {},
     "outputs": []
    },
    {
     "cell_type": "code",
     "collapsed": false,
     "input": [
      "for i in range(0,len(R)):\n",
      "    res_links.append({\n",
      "        \"source\": index_dic[R.ix[i][\"Res_Sta\"]],\n",
      "        \"target\": index_dic[R.ix[i][\"Res_Cnty\"]], \n",
      "        \"value\" : R.ix[i][\"Number\"],\n",
      "        \"intra_cnty\":False,\n",
      "        \"intra_state\":False,\n",
      "        \"cnty_or_state\":\"State\"})"
     ],
     "language": "python",
     "metadata": {},
     "outputs": []
    },
    {
     "cell_type": "code",
     "collapsed": false,
     "input": [
      "for i in range(0,len(df)):\n",
      "     \n",
      "    if df.ix[i][\"Res_Cnty\"][:len(df.ix[i][\"Res_Cnty\"])-6] == df.ix[i][\"Emp_Cnty\"][:len(df.ix[i][\"Emp_Cnty\"])-6]:\n",
      "        intra_cnty = True\n",
      "    else:\n",
      "        intra_cnty = False\n",
      "        \n",
      "    if df.ix[i][\"Res_Sta\"][:len(df.ix[i][\"Res_Sta\"])-6] == df.ix[i][\"Emp_Sta\"][:len(df.ix[i][\"Emp_Sta\"])-6]:\n",
      "        intra_state = True\n",
      "    else:\n",
      "        intra_state = False\n",
      "        \n",
      "    #print i,df.ix[i][\"Res_Cnty\"][:len(df.ix[i][\"Res_Cnty\"])-6],df.ix[i][\"Emp_Cnty\"][:len(df.ix[i][\"Emp_Cnty\"])-6],intra_cnty    \n",
      "    res_links.append({\n",
      "        \"source\": index_dic[df.ix[i][\"Res_Cnty\"]],\n",
      "        \"target\": index_dic[df.ix[i][\"Emp_Cnty\"]], \n",
      "        \"value\" : df.ix[i][\"Number\"],\n",
      "        \"intra_cnty\":intra_cnty,\n",
      "        \"intra_state\": intra_state,\n",
      "        \"cnty_or_state\":\"Cnty\"})"
     ],
     "language": "python",
     "metadata": {},
     "outputs": []
    },
    {
     "cell_type": "code",
     "collapsed": false,
     "input": [
      "for i in range(0,len(T)):\n",
      "    res_links.append({\n",
      "        \"source\": index_dic[T.ix[i][\"Emp_Cnty\"]],\n",
      "        \"target\": index_dic[T.ix[i][\"Emp_Sta\"]], \n",
      "        \"value\" : T.ix[i][\"Number\"],\n",
      "        \"intra_cnty\":False,\n",
      "        \"intra_state\":False,\n",
      "        \"cnty_or_state\":\"State\"})"
     ],
     "language": "python",
     "metadata": {},
     "outputs": []
    },
    {
     "cell_type": "code",
     "collapsed": false,
     "input": [
      "#j = json.dumps({\"nodes\" : res_nodes, \"links\" : res_links },indent=2) # pretty print\n",
      "j = json.dumps({\"nodes\" : res_nodes, \"links\" : res_links },indent=0) #only new lines"
     ],
     "language": "python",
     "metadata": {},
     "outputs": []
    },
    {
     "cell_type": "code",
     "collapsed": false,
     "input": [
      "out_file = config[mode][\"outfile\"]\n",
      "\n",
      "f = open(out_file, 'w')\n",
      "f.write(j)\n",
      "f.close()"
     ],
     "language": "python",
     "metadata": {},
     "outputs": []
    }
   ],
   "metadata": {}
  }
 ]
}