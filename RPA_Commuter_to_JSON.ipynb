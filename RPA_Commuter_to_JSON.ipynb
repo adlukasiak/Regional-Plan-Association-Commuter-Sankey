{
 "metadata": {
  "name": ""
 },
 "nbformat": 3,
 "nbformat_minor": 0,
 "worksheets": [
  {
   "cells": [
    {
     "cell_type": "code",
     "collapsed": false,
     "input": [
      "import json\n",
      "import pandas as pd\n",
      "import numpy as np"
     ],
     "language": "python",
     "metadata": {},
     "outputs": [],
     "prompt_number": 58
    },
    {
     "cell_type": "code",
     "collapsed": false,
     "input": [
      "#mode = \"RtoW_all\"\n",
      "#mode = \"RtoW_top_100\"\n",
      "#mode = \"WtoR_all\"\n",
      "mode = \"WtoR_top_100\""
     ],
     "language": "python",
     "metadata": {},
     "outputs": [],
     "prompt_number": 59
    },
    {
     "cell_type": "code",
     "collapsed": false,
     "input": [
      "config = {\"RtoW_all\":{\n",
      "              \"infile\":\"data/residencecommutecounty-rpacounty-042014.csv\",\n",
      "              \"outfile\":\"data/rpa_commute_res_emp_all.json\",\n",
      "              \"top_100\":False},\n",
      "          \"RtoW_top_100\":{\n",
      "              \"infile\":\"data/residencecommutecounty-rpacounty-042014.csv\",\n",
      "              \"outfile\":\"data/rpa_commute_res_emp_top_100.json\",\n",
      "              \"top_100\":True},\n",
      "          \"WtoR_all\":{\n",
      "              \"infile\":\"data/workplacecommutecounty-rpacounty-042014.csv\",\n",
      "              \"outfile\":\"data/rpa_commute_emp_res_all.json\",\n",
      "              \"top_100\":False},\n",
      "          \"WtoR_top_100\":{\n",
      "              \"infile\":\"data/workplacecommutecounty-rpacounty-042014.csv\",\n",
      "              \"outfile\":\"data/rpa_commute_emp_res_top_100.json\",\n",
      "              \"top_100\":True},\n",
      "          }"
     ],
     "language": "python",
     "metadata": {},
     "outputs": [],
     "prompt_number": 60
    },
    {
     "cell_type": "code",
     "collapsed": false,
     "input": [
      "#config[\"RtoW_top_100\"][\"top_100\"]"
     ],
     "language": "python",
     "metadata": {},
     "outputs": [],
     "prompt_number": 61
    },
    {
     "cell_type": "code",
     "collapsed": false,
     "input": [
      "in_file = config[mode][\"infile\"]\n",
      "df = pd.io.parsers.read_csv(in_file, dtype= {\"Numbers\": np.int32})"
     ],
     "language": "python",
     "metadata": {},
     "outputs": [],
     "prompt_number": 62
    },
    {
     "cell_type": "code",
     "collapsed": false,
     "input": [
      "cols_to_keep = [\"Number\",\"MOE\",\"Res_Sta\",\"Res_Cnty\",\"Emp_Sta\",\"Emp_Cnty\"]\n",
      "dummies = []\n",
      "\n",
      "df = df[[col for col in cols_to_keep if col not in dummies]]\n",
      "df = df.fillna(\" \")"
     ],
     "language": "python",
     "metadata": {},
     "outputs": [],
     "prompt_number": 63
    },
    {
     "cell_type": "code",
     "collapsed": false,
     "input": [
      "# Add a combined Sta & Cnty columns for Res & Emp\n",
      "df[\"Res_Sta_Cnty\"] = df[\"Res_Sta\"]+df[\"Res_Cnty\"]\n",
      "df[\"Emp_Sta_Cnty\"] = df[\"Emp_Sta\"]+df[\"Emp_Cnty\"]\n",
      "\n",
      "# For Emp added \"T\" in front of the Emp_Sta_Cnty.  The sankey goes circular if the target name can also be a source\n",
      "df['Res_Sta_Cnty'] = df['Res_Sta_Cnty'].map(lambda x : 'R ' + x)\n",
      "df['Emp_Sta_Cnty'] = df['Emp_Sta_Cnty'].map(lambda x : 'T ' + x)"
     ],
     "language": "python",
     "metadata": {},
     "outputs": [],
     "prompt_number": 64
    },
    {
     "cell_type": "code",
     "collapsed": false,
     "input": [
      "# For testing only, if want to do top_10\n",
      "df = df.sort([\"Number\"],ascending=False).reset_index()\n",
      "if config[mode][\"top_100\"] == True:\n",
      "    df = df[:100]"
     ],
     "language": "python",
     "metadata": {},
     "outputs": [],
     "prompt_number": 65
    },
    {
     "cell_type": "code",
     "collapsed": false,
     "input": [
      "#df"
     ],
     "language": "python",
     "metadata": {},
     "outputs": [],
     "prompt_number": 66
    },
    {
     "cell_type": "code",
     "collapsed": false,
     "input": [
      "a = list(set(list(set(df[\"Res_Sta_Cnty\"])) + list(set(df[\"Emp_Sta_Cnty\"]))))"
     ],
     "language": "python",
     "metadata": {},
     "outputs": [],
     "prompt_number": 67
    },
    {
     "cell_type": "code",
     "collapsed": false,
     "input": [
      "a.sort()"
     ],
     "language": "python",
     "metadata": {},
     "outputs": [],
     "prompt_number": 68
    },
    {
     "cell_type": "code",
     "collapsed": false,
     "input": [
      "# Index needs to start with 0 and be sequential, 0,1,2, etc\n",
      "# df.index.is_monotonic"
     ],
     "language": "python",
     "metadata": {},
     "outputs": [],
     "prompt_number": 69
    },
    {
     "cell_type": "markdown",
     "metadata": {},
     "source": [
      "The json file has \"nodes\" and \"links\" objects."
     ]
    },
    {
     "cell_type": "code",
     "collapsed": false,
     "input": [
      "res_nodes = []\n",
      "#for elem in sorted(a):\n",
      "for elem in a:\n",
      "    res_nodes.append({\"name\":elem})"
     ],
     "language": "python",
     "metadata": {},
     "outputs": [],
     "prompt_number": 70
    },
    {
     "cell_type": "code",
     "collapsed": false,
     "input": [
      "# res_nodes is the ordered list\n",
      "# now, off to creating res_links\n",
      "\n",
      "res_nodes_dict = dict(zip(a,range(0,len(a))))"
     ],
     "language": "python",
     "metadata": {},
     "outputs": [],
     "prompt_number": 71
    },
    {
     "cell_type": "code",
     "collapsed": false,
     "input": [
      "#res_nodes_dict"
     ],
     "language": "python",
     "metadata": {},
     "outputs": [],
     "prompt_number": 72
    },
    {
     "cell_type": "code",
     "collapsed": false,
     "input": [
      "res_links = []\n",
      "\n",
      "for i in range(0,len(df)):\n",
      "    \n",
      "    res_links.append({\n",
      "        \"source\": res_nodes_dict[df.ix[i][\"Res_Sta_Cnty\"]],\n",
      "        \"target\": res_nodes_dict[df.ix[i][\"Emp_Sta_Cnty\"]], \n",
      "        \"value\" : df.ix[i][\"Number\"] })"
     ],
     "language": "python",
     "metadata": {},
     "outputs": [],
     "prompt_number": 73
    },
    {
     "cell_type": "code",
     "collapsed": false,
     "input": [
      "#res_links"
     ],
     "language": "python",
     "metadata": {},
     "outputs": [],
     "prompt_number": 74
    },
    {
     "cell_type": "code",
     "collapsed": false,
     "input": [
      "#j = json.dumps({\"nodes\" : res_nodes, \"links\" : res_links },indent=2) # pretty print\n",
      "j = json.dumps({\"nodes\" : res_nodes, \"links\" : res_links },indent=0) #only new lines"
     ],
     "language": "python",
     "metadata": {},
     "outputs": [],
     "prompt_number": 75
    },
    {
     "cell_type": "code",
     "collapsed": false,
     "input": [
      "out_file = config[mode][\"outfile\"]\n",
      "\n",
      "f = open(out_file, 'w')\n",
      "f.write(j)\n",
      "f.close()"
     ],
     "language": "python",
     "metadata": {},
     "outputs": [],
     "prompt_number": 76
    },
    {
     "cell_type": "code",
     "collapsed": false,
     "input": [],
     "language": "python",
     "metadata": {},
     "outputs": []
    }
   ],
   "metadata": {}
  }
 ]
}